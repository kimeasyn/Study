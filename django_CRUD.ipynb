{
 "cells": [
  {
   "cell_type": "code",
   "execution_count": 1,
   "metadata": {},
   "outputs": [
    {
     "data": {
      "text/plain": [
       "studyApp.models.Study"
      ]
     },
     "execution_count": 1,
     "metadata": {},
     "output_type": "execute_result"
    }
   ],
   "source": [
    "Study"
   ]
  },
  {
   "cell_type": "code",
   "execution_count": 2,
   "metadata": {},
   "outputs": [
    {
     "data": {
      "text/plain": [
       "<django.db.models.manager.Manager at 0x7f5032f08e48>"
      ]
     },
     "execution_count": 2,
     "metadata": {},
     "output_type": "execute_result"
    }
   ],
   "source": [
    "Study.objects"
   ]
  },
  {
   "cell_type": "code",
   "execution_count": 3,
   "metadata": {},
   "outputs": [
    {
     "data": {
      "text/plain": [
       "<QuerySet [<Study: Study object>, <Study: Study object>, <Study: Study object>]>"
      ]
     },
     "execution_count": 3,
     "metadata": {},
     "output_type": "execute_result"
    }
   ],
   "source": [
    "Study.objects.all()"
   ]
  },
  {
   "cell_type": "code",
   "execution_count": 7,
   "metadata": {},
   "outputs": [
    {
     "name": "stdout",
     "output_type": "stream",
     "text": [
      "파이썬 공부해요\n",
      "자바 공부해요\n",
      "스프링 하자!\n"
     ]
    }
   ],
   "source": [
    "for study in Study.objects.all(): #Query Set\n",
    "    print(study.title)"
   ]
  },
  {
   "cell_type": "code",
   "execution_count": 10,
   "metadata": {},
   "outputs": [
    {
     "data": {
      "text/plain": [
       "<QuerySet [<Study: Study object>, <Study: Study object>, <Study: Study object>]>"
      ]
     },
     "execution_count": 10,
     "metadata": {},
     "output_type": "execute_result"
    }
   ],
   "source": [
    "Study.objects.all()[:2]#갯수 제한"
   ]
  },
  {
   "cell_type": "code",
   "execution_count": 11,
   "metadata": {},
   "outputs": [
    {
     "data": {
      "text/plain": [
       "<QuerySet [<Study: Study object>, <Study: Study object>, <Study: Study object>]>"
      ]
     },
     "execution_count": 11,
     "metadata": {},
     "output_type": "execute_result"
    }
   ],
   "source": [
    "Study.objects.all().order_by('-id')"
   ]
  },
  {
   "cell_type": "code",
   "execution_count": 17,
   "metadata": {},
   "outputs": [
    {
     "data": {
      "text/plain": [
       "{'sql': \"INSERT INTO `studyApp_study` (`title`, `writer`, `book`, `tags`, `location`, `content`, `created_at`, `updated_at`, `start_date`, `end_date`, `status`) VALUES ('Django 공부', '장고지킴이', 'Dajngo Cookbook', '', '신도림', '화이팅', '2017-11-09 14:41:23.063638', '2017-11-09 14:41:23.063692', '2017-11-11', '2017-12-11', '')\",\n",
       " 'time': '0.001'}"
      ]
     },
     "execution_count": 17,
     "metadata": {},
     "output_type": "execute_result"
    }
   ],
   "source": [
    "from django.db import connection\n",
    "connection.queries[-1]\n",
    "#qry 실행 내역 정보 확인"
   ]
  },
  {
   "cell_type": "code",
   "execution_count": 16,
   "metadata": {},
   "outputs": [
    {
     "data": {
      "text/plain": [
       "<Study: Study object>"
      ]
     },
     "execution_count": 16,
     "metadata": {},
     "output_type": "execute_result"
    }
   ],
   "source": [
    "Study.objects.create(title='Django 공부', writer='장고지킴이', book='Dajngo Cookbook', location='신도림', content='화이팅', start_date='2017-11-11', end_date='2017-12-11')\n",
    "#Insert into StudyModelClass(title,writer,book,location,content,start_date,end_date\n",
    "#values(.....))"
   ]
  },
  {
   "cell_type": "code",
   "execution_count": 2,
   "metadata": {},
   "outputs": [
    {
     "data": {
      "text/plain": [
       "<QuerySet [<Study: Django 공부>]>"
      ]
     },
     "execution_count": 2,
     "metadata": {},
     "output_type": "execute_result"
    }
   ],
   "source": [
    "Study.objects.all().filter(title__icontains='Dj')\n",
    "# select * from Study where title like '%DJ%'' 대소문자 구분 x\n",
    "#Model class의 __str__ 함수에서 return 값(title)을 지정해 주었으므로 select * 이 아닌 select title이 됨"
   ]
  },
  {
   "cell_type": "code",
   "execution_count": 3,
   "metadata": {},
   "outputs": [
    {
     "name": "stdout",
     "output_type": "stream",
     "text": [
      "파이썬 공부해요\n",
      "자바 공부해요\n",
      "스프링 하자!\n",
      "Django 공부\n"
     ]
    }
   ],
   "source": [
    "for study in Study.objects.all():\n",
    "    print(study) # = print(study.__str__())"
   ]
  },
  {
   "cell_type": "code",
   "execution_count": 13,
   "metadata": {
    "collapsed": true
   },
   "outputs": [],
   "source": [
    "import random\n",
    "\n",
    "for i in range(1000):\n",
    "    status = random.choice(['h', 'o'])\n",
    "    Study.objects.create(title='Random 제목 #{}'.format(i), writer='테스터', book='책 #{}', location='서울', content='화이팅', start_date='2017-11-11', end_date='2017-12-11')"
   ]
  },
  {
   "cell_type": "code",
   "execution_count": 15,
   "metadata": {},
   "outputs": [
    {
     "data": {
      "text/plain": [
       "2004"
      ]
     },
     "execution_count": 15,
     "metadata": {},
     "output_type": "execute_result"
    }
   ],
   "source": [
    "Study.objects.all().count()"
   ]
  },
  {
   "cell_type": "code",
   "execution_count": 1,
   "metadata": {},
   "outputs": [
    {
     "name": "stdout",
     "output_type": "stream",
     "text": [
      "<QuerySet [<Study: Random 제목 #12>, <Study: Random 제목 #102>, <Study: Random 제목 #112>, <Study: Random 제목 #122>, <Study: Random 제목 #132>, <Study: Random 제목 #142>, <Study: Random 제목 #152>, <Study: Random 제목 #162>, <Study: Random 제목 #172>, <Study: Random 제목 #182>, <Study: Random 제목 #192>, <Study: Random 제목 #212>, <Study: Random 제목 #312>, <Study: Random 제목 #412>, <Study: Random 제목 #512>, <Study: Random 제목 #612>, <Study: Random 제목 #712>, <Study: Random 제목 #812>, <Study: Random 제목 #912>]>\n",
      "\n",
      "<QuerySet [<Study: Random 제목 #12>, <Study: Random 제목 #102>, <Study: Random 제목 #112>, <Study: Random 제목 #122>, <Study: Random 제목 #132>, <Study: Random 제목 #142>, <Study: Random 제목 #152>, <Study: Random 제목 #162>, <Study: Random 제목 #172>, <Study: Random 제목 #182>, <Study: Random 제목 #192>, <Study: Random 제목 #212>, <Study: Random 제목 #312>, <Study: Random 제목 #412>, <Study: Random 제목 #512>, <Study: Random 제목 #612>, <Study: Random 제목 #712>, <Study: Random 제목 #812>, <Study: Random 제목 #912>]>\n"
     ]
    }
   ],
   "source": [
    "qs1 = Study.objects.filter(title__icontains='1', title__endswith='2')\n",
    "qs2 = Study.objects.filter(title__icontains='1').filter(title__endswith='2')\n",
    "print(qs1)#두개의 query set 동일\n",
    "print()\n",
    "print(qs2)"
   ]
  },
  {
   "cell_type": "code",
   "execution_count": 4,
   "metadata": {},
   "outputs": [
    {
     "data": {
      "text/plain": [
       "<QuerySet [<Study: Random 제목 #1>, <Study: Random 제목 #10>, <Study: Random 제목 #11>, <Study: Random 제목 #12>, <Study: Random 제목 #14>, <Study: Random 제목 #15>, <Study: Random 제목 #16>, <Study: Random 제목 #17>, <Study: Random 제목 #18>, <Study: Random 제목 #19>, <Study: Random 제목 #21>, <Study: Random 제목 #31>, <Study: Random 제목 #41>, <Study: Random 제목 #51>, <Study: Random 제목 #61>, <Study: Random 제목 #71>, <Study: Random 제목 #81>, <Study: Random 제목 #91>, <Study: Random 제목 #100>, <Study: Random 제목 #101>, '...(remaining elements truncated)...']>"
      ]
     },
     "execution_count": 4,
     "metadata": {},
     "output_type": "execute_result"
    }
   ],
   "source": [
    "Study.objects.filter(title__icontains='1').exclude(title__endswith='3')\n",
    "#fileter = where\n",
    "#exclude = 제외"
   ]
  },
  {
   "cell_type": "code",
   "execution_count": 5,
   "metadata": {
    "collapsed": true
   },
   "outputs": [],
   "source": [
    "#OR 조건 사용하기\n",
    "from django.db.models import Q"
   ]
  },
  {
   "cell_type": "code",
   "execution_count": 6,
   "metadata": {},
   "outputs": [
    {
     "data": {
      "text/plain": [
       "<QuerySet [<Study: Random 제목 #1>, <Study: Random 제목 #3>, <Study: Random 제목 #10>, <Study: Random 제목 #11>, <Study: Random 제목 #12>, <Study: Random 제목 #13>, <Study: Random 제목 #14>, <Study: Random 제목 #15>, <Study: Random 제목 #16>, <Study: Random 제목 #17>, <Study: Random 제목 #18>, <Study: Random 제목 #19>, <Study: Random 제목 #21>, <Study: Random 제목 #23>, <Study: Random 제목 #30>, <Study: Random 제목 #31>, <Study: Random 제목 #32>, <Study: Random 제목 #33>, <Study: Random 제목 #34>, <Study: Random 제목 #35>, '...(remaining elements truncated)...']>"
      ]
     },
     "execution_count": 6,
     "metadata": {},
     "output_type": "execute_result"
    }
   ],
   "source": [
    "Study.objects.filter(Q(title__icontains='1') | Q(title__icontains='3'))"
   ]
  },
  {
   "cell_type": "code",
   "execution_count": null,
   "metadata": {
    "collapsed": true
   },
   "outputs": [],
   "source": []
  }
 ],
 "metadata": {
  "kernelspec": {
   "display_name": "Django Shell-Plus",
   "language": "python",
   "name": "django_extensions"
  },
  "language_info": {
   "codemirror_mode": {
    "name": "ipython",
    "version": 3
   },
   "file_extension": ".py",
   "mimetype": "text/x-python",
   "name": "python",
   "nbconvert_exporter": "python",
   "pygments_lexer": "ipython3",
   "version": "3.6.2"
  }
 },
 "nbformat": 4,
 "nbformat_minor": 2
}
